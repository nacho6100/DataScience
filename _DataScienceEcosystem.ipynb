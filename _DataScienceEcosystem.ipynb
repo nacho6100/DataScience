{
 "cells": [
  {
   "cell_type": "markdown",
   "id": "84d92e47-58db-4363-b77e-a2141e729ab0",
   "metadata": {},
   "source": [
    "# Data Science Tools and Ecosystem"
   ]
  },
  {
   "cell_type": "markdown",
   "id": "d5e8ed71-23dc-499e-8d92-0a7ada08f328",
   "metadata": {},
   "source": [
    "## Author"
   ]
  },
  {
   "cell_type": "markdown",
   "id": "abb9091f-e03b-488d-9012-70cae1c5b67b",
   "metadata": {},
   "source": [
    "Noah Weiss"
   ]
  },
  {
   "cell_type": "markdown",
   "id": "44b3ce91-81fe-49e5-9709-2a33bce2c857",
   "metadata": {},
   "source": [
    "In this notebook, Data Science Tools and Ecosystem are summarized."
   ]
  },
  {
   "cell_type": "markdown",
   "id": "d7d5f5c9-daa6-4c3c-a665-d91132902622",
   "metadata": {},
   "source": [
    "Objectives:\n",
    "- List popular languages for Data Science\n",
    "- Popular Libraries\n",
    "- Popular Data Science Tools\n",
    "- Evaluting Arithmic Expressions"
   ]
  },
  {
   "cell_type": "code",
   "execution_count": null,
   "id": "900b262c-d691-4621-ace3-90337ab19129",
   "metadata": {},
   "outputs": [],
   "source": []
  },
  {
   "cell_type": "markdown",
   "id": "97795ae7-ee85-4ecf-85f9-f0e370158b51",
   "metadata": {},
   "source": [
    "Some of the popular languages that Data Scientists use are:\n",
    "1. Python\n",
    "2. R\n",
    "3. C++"
   ]
  },
  {
   "cell_type": "markdown",
   "id": "43f01c25-dedd-4c81-96e3-d7cc7bc9493e",
   "metadata": {},
   "source": [
    "Some of the commonly used libraries used by Data Scientists include:\n",
    "1. NumPy\n",
    "2. Pandas\n",
    "3. SciPy"
   ]
  },
  {
   "cell_type": "markdown",
   "id": "d6b13644-5d1a-4544-b661-3315bf4ea9b4",
   "metadata": {},
   "source": [
    "|Data Science Tools|\n",
    "|---|\n",
    "|Matplotlib|\n",
    "|Apache Spark|\n",
    "|Jupyter Notebook|"
   ]
  },
  {
   "cell_type": "markdown",
   "id": "bf1cdfdc-ba80-4add-9697-eb40d3752717",
   "metadata": {},
   "source": [
    "### Below are a few examples of evaluating arithmetic expressions in Python"
   ]
  },
  {
   "cell_type": "code",
   "execution_count": 2,
   "id": "5ea32b95-c9d5-4360-a794-057a3960087a",
   "metadata": {},
   "outputs": [
    {
     "data": {
      "text/plain": [
       "17"
      ]
     },
     "execution_count": 2,
     "metadata": {},
     "output_type": "execute_result"
    }
   ],
   "source": [
    "#This a simple arithmetic expression to mutiply then add integers\n",
    "(3*4)+5"
   ]
  },
  {
   "cell_type": "code",
   "execution_count": 4,
   "id": "94269c9a-f6c4-4472-b18e-1e5a7085338c",
   "metadata": {},
   "outputs": [
    {
     "data": {
      "text/plain": [
       "3.3333333333333335"
      ]
     },
     "execution_count": 4,
     "metadata": {},
     "output_type": "execute_result"
    }
   ],
   "source": [
    "# This will convert 200 minutes to hours by diving by 60\n",
    "200 / 60"
   ]
  }
 ],
 "metadata": {
  "kernelspec": {
   "display_name": "Python 3 (ipykernel)",
   "language": "python",
   "name": "python3"
  },
  "language_info": {
   "codemirror_mode": {
    "name": "ipython",
    "version": 3
   },
   "file_extension": ".py",
   "mimetype": "text/x-python",
   "name": "python",
   "nbconvert_exporter": "python",
   "pygments_lexer": "ipython3",
   "version": "3.13.5"
  }
 },
 "nbformat": 4,
 "nbformat_minor": 5
}
